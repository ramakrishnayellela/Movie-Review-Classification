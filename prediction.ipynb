{
 "cells": [
  {
   "cell_type": "code",
   "execution_count": 1,
   "metadata": {},
   "outputs": [],
   "source": [
    "# Step 1: Import Libraries and Load the Model\n",
    "import numpy as np\n",
    "import tensorflow as tf\n",
    "from tensorflow.keras.datasets import imdb\n",
    "from tensorflow.keras.preprocessing import sequence\n",
    "from tensorflow.keras.models import load_model"
   ]
  },
  {
   "cell_type": "code",
   "execution_count": 2,
   "metadata": {},
   "outputs": [],
   "source": [
    "\n",
    "# Load the IMDB dataset word index\n",
    "word_index = imdb.get_word_index()\n",
    "reverse_word_index = {value: key for key, value in word_index.items()}"
   ]
  },
  {
   "cell_type": "code",
   "execution_count": 3,
   "metadata": {},
   "outputs": [
    {
     "name": "stdout",
     "output_type": "stream",
     "text": [
      "2.18.0\n"
     ]
    }
   ],
   "source": [
    "import tensorflow as tf\n",
    "print(tf.__version__)\n"
   ]
  },
  {
   "cell_type": "code",
   "execution_count": 4,
   "metadata": {},
   "outputs": [
    {
     "name": "stderr",
     "output_type": "stream",
     "text": [
      "WARNING:absl:Compiled the loaded model, but the compiled metrics have yet to be built. `model.compile_metrics` will be empty until you train or evaluate the model.\n"
     ]
    },
    {
     "data": {
      "text/html": [
       "<pre style=\"white-space:pre;overflow-x:auto;line-height:normal;font-family:Menlo,'DejaVu Sans Mono',consolas,'Courier New',monospace\"><span style=\"font-weight: bold\">Model: \"sequential_1\"</span>\n",
       "</pre>\n"
      ],
      "text/plain": [
       "\u001b[1mModel: \"sequential_1\"\u001b[0m\n"
      ]
     },
     "metadata": {},
     "output_type": "display_data"
    },
    {
     "data": {
      "text/html": [
       "<pre style=\"white-space:pre;overflow-x:auto;line-height:normal;font-family:Menlo,'DejaVu Sans Mono',consolas,'Courier New',monospace\">┏━━━━━━━━━━━━━━━━━━━━━━━━━━━━━━━━━┳━━━━━━━━━━━━━━━━━━━━━━━━┳━━━━━━━━━━━━━━━┓\n",
       "┃<span style=\"font-weight: bold\"> Layer (type)                    </span>┃<span style=\"font-weight: bold\"> Output Shape           </span>┃<span style=\"font-weight: bold\">       Param # </span>┃\n",
       "┡━━━━━━━━━━━━━━━━━━━━━━━━━━━━━━━━━╇━━━━━━━━━━━━━━━━━━━━━━━━╇━━━━━━━━━━━━━━━┩\n",
       "│ embedding_1 (<span style=\"color: #0087ff; text-decoration-color: #0087ff\">Embedding</span>)         │ (<span style=\"color: #00af00; text-decoration-color: #00af00\">32</span>, <span style=\"color: #00af00; text-decoration-color: #00af00\">500</span>, <span style=\"color: #00af00; text-decoration-color: #00af00\">128</span>)         │     <span style=\"color: #00af00; text-decoration-color: #00af00\">1,280,000</span> │\n",
       "├─────────────────────────────────┼────────────────────────┼───────────────┤\n",
       "│ simple_rnn_1 (<span style=\"color: #0087ff; text-decoration-color: #0087ff\">SimpleRNN</span>)        │ (<span style=\"color: #00af00; text-decoration-color: #00af00\">32</span>, <span style=\"color: #00af00; text-decoration-color: #00af00\">128</span>)              │        <span style=\"color: #00af00; text-decoration-color: #00af00\">32,896</span> │\n",
       "├─────────────────────────────────┼────────────────────────┼───────────────┤\n",
       "│ dense_1 (<span style=\"color: #0087ff; text-decoration-color: #0087ff\">Dense</span>)                 │ (<span style=\"color: #00af00; text-decoration-color: #00af00\">32</span>, <span style=\"color: #00af00; text-decoration-color: #00af00\">1</span>)                │           <span style=\"color: #00af00; text-decoration-color: #00af00\">129</span> │\n",
       "└─────────────────────────────────┴────────────────────────┴───────────────┘\n",
       "</pre>\n"
      ],
      "text/plain": [
       "┏━━━━━━━━━━━━━━━━━━━━━━━━━━━━━━━━━┳━━━━━━━━━━━━━━━━━━━━━━━━┳━━━━━━━━━━━━━━━┓\n",
       "┃\u001b[1m \u001b[0m\u001b[1mLayer (type)                   \u001b[0m\u001b[1m \u001b[0m┃\u001b[1m \u001b[0m\u001b[1mOutput Shape          \u001b[0m\u001b[1m \u001b[0m┃\u001b[1m \u001b[0m\u001b[1m      Param #\u001b[0m\u001b[1m \u001b[0m┃\n",
       "┡━━━━━━━━━━━━━━━━━━━━━━━━━━━━━━━━━╇━━━━━━━━━━━━━━━━━━━━━━━━╇━━━━━━━━━━━━━━━┩\n",
       "│ embedding_1 (\u001b[38;5;33mEmbedding\u001b[0m)         │ (\u001b[38;5;34m32\u001b[0m, \u001b[38;5;34m500\u001b[0m, \u001b[38;5;34m128\u001b[0m)         │     \u001b[38;5;34m1,280,000\u001b[0m │\n",
       "├─────────────────────────────────┼────────────────────────┼───────────────┤\n",
       "│ simple_rnn_1 (\u001b[38;5;33mSimpleRNN\u001b[0m)        │ (\u001b[38;5;34m32\u001b[0m, \u001b[38;5;34m128\u001b[0m)              │        \u001b[38;5;34m32,896\u001b[0m │\n",
       "├─────────────────────────────────┼────────────────────────┼───────────────┤\n",
       "│ dense_1 (\u001b[38;5;33mDense\u001b[0m)                 │ (\u001b[38;5;34m32\u001b[0m, \u001b[38;5;34m1\u001b[0m)                │           \u001b[38;5;34m129\u001b[0m │\n",
       "└─────────────────────────────────┴────────────────────────┴───────────────┘\n"
      ]
     },
     "metadata": {},
     "output_type": "display_data"
    },
    {
     "data": {
      "text/html": [
       "<pre style=\"white-space:pre;overflow-x:auto;line-height:normal;font-family:Menlo,'DejaVu Sans Mono',consolas,'Courier New',monospace\"><span style=\"font-weight: bold\"> Total params: </span><span style=\"color: #00af00; text-decoration-color: #00af00\">1,313,027</span> (5.01 MB)\n",
       "</pre>\n"
      ],
      "text/plain": [
       "\u001b[1m Total params: \u001b[0m\u001b[38;5;34m1,313,027\u001b[0m (5.01 MB)\n"
      ]
     },
     "metadata": {},
     "output_type": "display_data"
    },
    {
     "data": {
      "text/html": [
       "<pre style=\"white-space:pre;overflow-x:auto;line-height:normal;font-family:Menlo,'DejaVu Sans Mono',consolas,'Courier New',monospace\"><span style=\"font-weight: bold\"> Trainable params: </span><span style=\"color: #00af00; text-decoration-color: #00af00\">1,313,025</span> (5.01 MB)\n",
       "</pre>\n"
      ],
      "text/plain": [
       "\u001b[1m Trainable params: \u001b[0m\u001b[38;5;34m1,313,025\u001b[0m (5.01 MB)\n"
      ]
     },
     "metadata": {},
     "output_type": "display_data"
    },
    {
     "data": {
      "text/html": [
       "<pre style=\"white-space:pre;overflow-x:auto;line-height:normal;font-family:Menlo,'DejaVu Sans Mono',consolas,'Courier New',monospace\"><span style=\"font-weight: bold\"> Non-trainable params: </span><span style=\"color: #00af00; text-decoration-color: #00af00\">0</span> (0.00 B)\n",
       "</pre>\n"
      ],
      "text/plain": [
       "\u001b[1m Non-trainable params: \u001b[0m\u001b[38;5;34m0\u001b[0m (0.00 B)\n"
      ]
     },
     "metadata": {},
     "output_type": "display_data"
    },
    {
     "data": {
      "text/html": [
       "<pre style=\"white-space:pre;overflow-x:auto;line-height:normal;font-family:Menlo,'DejaVu Sans Mono',consolas,'Courier New',monospace\"><span style=\"font-weight: bold\"> Optimizer params: </span><span style=\"color: #00af00; text-decoration-color: #00af00\">2</span> (12.00 B)\n",
       "</pre>\n"
      ],
      "text/plain": [
       "\u001b[1m Optimizer params: \u001b[0m\u001b[38;5;34m2\u001b[0m (12.00 B)\n"
      ]
     },
     "metadata": {},
     "output_type": "display_data"
    }
   ],
   "source": [
    "model = load_model('simple_rnn_imdb.h5')\n",
    "model.summary()"
   ]
  },
  {
   "cell_type": "code",
   "execution_count": 5,
   "metadata": {},
   "outputs": [
    {
     "data": {
      "text/plain": [
       "[array([[-0.02298981, -0.00716734,  0.02102209, ..., -0.02360743,\n",
       "          0.00794158, -0.06042716],\n",
       "        [-0.02045042, -0.03919787, -0.00874084, ..., -0.00436383,\n",
       "         -0.00718767, -0.00070923],\n",
       "        [ 0.25605938, -0.08716328,  0.01135876, ...,  0.09758878,\n",
       "          0.08537848,  0.07625332],\n",
       "        ...,\n",
       "        [ 0.00647376, -0.01268168,  0.03489175, ..., -0.04200337,\n",
       "          0.04840937,  0.006329  ],\n",
       "        [ 0.08531579,  0.09204175, -0.02343803, ...,  0.04460768,\n",
       "          0.09022237, -0.09714653],\n",
       "        [-0.04557181, -0.06483406,  0.07142407, ...,  0.07303904,\n",
       "         -0.03423755,  0.16512717]], dtype=float32),\n",
       " array([[ 0.10490796, -0.00394262,  0.13857587, ...,  0.04321475,\n",
       "          0.03358285,  0.05036942],\n",
       "        [-0.01880456, -0.08324507,  0.14555901, ...,  0.13550317,\n",
       "          0.08556999,  0.00494177],\n",
       "        [ 0.12175184, -0.08450511,  0.0372377 , ..., -0.02008337,\n",
       "         -0.11708006,  0.03134563],\n",
       "        ...,\n",
       "        [-0.0284504 , -0.16229081, -0.12378108, ..., -0.10773379,\n",
       "         -0.11437984,  0.1536897 ],\n",
       "        [-0.00121892,  0.04941878, -0.01808933, ..., -0.1539825 ,\n",
       "          0.07192457,  0.03816276],\n",
       "        [ 0.2601572 ,  0.07138855, -0.01950475, ...,  0.12782188,\n",
       "          0.02479342,  0.15383726]], dtype=float32),\n",
       " array([[-5.7070106e-02, -5.3407118e-02, -1.9341345e-01, ...,\n",
       "         -7.0013724e-02,  1.0453157e-01,  2.7817151e-01],\n",
       "        [-3.5962302e-02, -6.5964669e-02,  1.3216253e-01, ...,\n",
       "         -1.3124259e-02,  3.4230229e-02,  1.0630682e-02],\n",
       "        [ 2.8646247e-02, -6.8530232e-02, -1.2660719e-03, ...,\n",
       "          1.3402432e-01, -6.0703889e-02, -4.4816170e-02],\n",
       "        ...,\n",
       "        [ 6.2192492e-02, -2.7873361e-02,  3.2753646e-02, ...,\n",
       "         -1.6400562e-01, -2.3088787e-01, -1.3942817e-01],\n",
       "        [ 4.4479296e-02, -4.5302875e-02, -6.5498181e-02, ...,\n",
       "         -2.8691377e-02,  1.4367725e-01, -3.7519403e-02],\n",
       "        [ 6.2252019e-02,  4.5366500e-02,  8.5260436e-02, ...,\n",
       "         -2.8542465e-02, -3.7170211e-03, -2.5173207e-04]], dtype=float32),\n",
       " array([ 0.00964351, -0.03227247,  0.02545163, -0.05485126, -0.01792069,\n",
       "        -0.05801724, -0.04787086, -0.03115069, -0.0105689 , -0.0132725 ,\n",
       "        -0.00273855, -0.00315355, -0.03993125, -0.01439807, -0.00293455,\n",
       "        -0.01583565, -0.01555817,  0.02739234,  0.0045478 , -0.04748693,\n",
       "        -0.03347627,  0.03189965, -0.04368913, -0.02736766, -0.03589039,\n",
       "        -0.00512448, -0.03511167, -0.04932991, -0.0381135 ,  0.04749079,\n",
       "        -0.02425238,  0.02755254, -0.01092467, -0.02977727, -0.07026721,\n",
       "        -0.01548984,  0.01792046, -0.0444125 , -0.02102521,  0.00434776,\n",
       "        -0.01596867, -0.02484931, -0.02836612, -0.00825522, -0.01696409,\n",
       "        -0.03406699,  0.01108862,  0.01652957, -0.02996331,  0.00629176,\n",
       "        -0.00258505, -0.02629658,  0.00216342, -0.01068455, -0.01811772,\n",
       "         0.01608486, -0.00933377, -0.02427183,  0.00958162, -0.03084837,\n",
       "        -0.05456004, -0.01874574, -0.01791328, -0.00206159, -0.04047064,\n",
       "        -0.01835524, -0.0040283 , -0.00212334,  0.04066684, -0.01158252,\n",
       "        -0.03797705, -0.02058455, -0.02150697, -0.01598503,  0.00280871,\n",
       "        -0.00666338,  0.00720774, -0.02519039, -0.02735513,  0.07039998,\n",
       "         0.00148373, -0.02382141,  0.00493678,  0.02625164, -0.03796786,\n",
       "        -0.04128557, -0.01867979, -0.03075121,  0.02451019, -0.00872386,\n",
       "         0.02981796, -0.01297044,  0.01105641, -0.01748697, -0.03729458,\n",
       "        -0.02654085, -0.01099458, -0.04265926, -0.0246366 , -0.02609899,\n",
       "        -0.03770402,  0.01640844, -0.0107739 , -0.00996773, -0.01864999,\n",
       "         0.00163929,  0.00423378, -0.05225891, -0.03338318, -0.04694629,\n",
       "        -0.027012  , -0.01068926, -0.01902866, -0.01063897,  0.00882912,\n",
       "        -0.03777172, -0.00391998, -0.03174173, -0.03479018, -0.03394618,\n",
       "        -0.0385498 , -0.0299806 , -0.03500393, -0.03721134,  0.02426662,\n",
       "         0.02847425, -0.00141185, -0.0488544 ], dtype=float32),\n",
       " array([[ 0.01967903],\n",
       "        [ 0.17099345],\n",
       "        [ 0.08373404],\n",
       "        [ 0.28892562],\n",
       "        [ 0.20725402],\n",
       "        [ 0.16608451],\n",
       "        [ 0.10051522],\n",
       "        [-0.06876923],\n",
       "        [ 0.02465626],\n",
       "        [ 0.1494404 ],\n",
       "        [-0.0224045 ],\n",
       "        [-0.12317861],\n",
       "        [ 0.05896111],\n",
       "        [ 0.07084437],\n",
       "        [ 0.23028281],\n",
       "        [ 0.00356701],\n",
       "        [ 0.03064991],\n",
       "        [ 0.07538935],\n",
       "        [-0.03639166],\n",
       "        [-0.04230991],\n",
       "        [ 0.24740346],\n",
       "        [ 0.04287242],\n",
       "        [ 0.05008763],\n",
       "        [-0.1355172 ],\n",
       "        [ 0.01291449],\n",
       "        [-0.48161867],\n",
       "        [ 0.15585388],\n",
       "        [ 0.20783727],\n",
       "        [ 0.04632705],\n",
       "        [-0.03610863],\n",
       "        [ 0.28911334],\n",
       "        [-0.03321993],\n",
       "        [ 0.10066599],\n",
       "        [ 0.10434551],\n",
       "        [-0.2939384 ],\n",
       "        [-0.02639975],\n",
       "        [ 0.07944606],\n",
       "        [ 0.04969449],\n",
       "        [-0.14072679],\n",
       "        [-0.11726114],\n",
       "        [-0.11114673],\n",
       "        [-0.06530558],\n",
       "        [ 0.09820801],\n",
       "        [ 0.16862679],\n",
       "        [ 0.02762751],\n",
       "        [ 0.3258748 ],\n",
       "        [ 0.25486693],\n",
       "        [-0.16986956],\n",
       "        [-0.16164649],\n",
       "        [-0.04070089],\n",
       "        [ 0.17641343],\n",
       "        [ 0.03213008],\n",
       "        [ 0.27853557],\n",
       "        [ 0.15966767],\n",
       "        [ 0.8208406 ],\n",
       "        [-0.10542423],\n",
       "        [ 0.16355644],\n",
       "        [ 0.1405161 ],\n",
       "        [-0.06611156],\n",
       "        [-0.0610801 ],\n",
       "        [ 0.20822227],\n",
       "        [-0.11404129],\n",
       "        [-0.11782189],\n",
       "        [ 0.2551415 ],\n",
       "        [ 0.04592447],\n",
       "        [-0.1455158 ],\n",
       "        [ 0.03432161],\n",
       "        [-0.04928338],\n",
       "        [ 0.13868009],\n",
       "        [-0.21065673],\n",
       "        [ 0.00608601],\n",
       "        [ 0.0940894 ],\n",
       "        [ 0.01718734],\n",
       "        [-0.13323072],\n",
       "        [-0.18369034],\n",
       "        [-0.02297026],\n",
       "        [ 0.07083309],\n",
       "        [-0.42442155],\n",
       "        [-0.02481358],\n",
       "        [-0.1493213 ],\n",
       "        [ 0.15803282],\n",
       "        [ 0.12895842],\n",
       "        [-0.08223388],\n",
       "        [ 0.02524858],\n",
       "        [ 0.05515694],\n",
       "        [-0.23353046],\n",
       "        [ 0.08326552],\n",
       "        [ 0.1687499 ],\n",
       "        [-0.14372592],\n",
       "        [ 0.12698565],\n",
       "        [-0.03911547],\n",
       "        [ 0.0292114 ],\n",
       "        [-0.03249788],\n",
       "        [-0.40578973],\n",
       "        [ 0.00617595],\n",
       "        [ 0.1017094 ],\n",
       "        [ 0.16747738],\n",
       "        [ 0.10793357],\n",
       "        [ 0.22318128],\n",
       "        [-0.12254038],\n",
       "        [-0.1427151 ],\n",
       "        [-0.0025199 ],\n",
       "        [ 0.08937827],\n",
       "        [ 0.00534285],\n",
       "        [-0.1908405 ],\n",
       "        [ 0.08882535],\n",
       "        [ 0.00173662],\n",
       "        [-0.17551476],\n",
       "        [ 0.08297358],\n",
       "        [-0.07985511],\n",
       "        [ 0.09598247],\n",
       "        [-0.22421859],\n",
       "        [ 0.24926187],\n",
       "        [ 0.03709485],\n",
       "        [ 0.04146834],\n",
       "        [ 0.12368355],\n",
       "        [ 0.22881621],\n",
       "        [ 0.07864659],\n",
       "        [-0.06737889],\n",
       "        [ 0.0298606 ],\n",
       "        [ 0.05142303],\n",
       "        [-0.20315269],\n",
       "        [-0.08211716],\n",
       "        [ 0.08423343],\n",
       "        [-0.23842321],\n",
       "        [-0.16162585],\n",
       "        [ 0.22245176],\n",
       "        [-0.21133594]], dtype=float32),\n",
       " array([0.37447977], dtype=float32)]"
      ]
     },
     "execution_count": 5,
     "metadata": {},
     "output_type": "execute_result"
    }
   ],
   "source": [
    "model.get_weights()"
   ]
  },
  {
   "cell_type": "code",
   "execution_count": 6,
   "metadata": {},
   "outputs": [],
   "source": [
    "# Step 2: Helper Functions\n",
    "# Function to decode reviews\n",
    "def decode_review(encoded_review):\n",
    "    return ' '.join([reverse_word_index.get(i - 3, '?') for i in encoded_review])\n",
    "\n",
    "# Function to preprocess user input\n",
    "def preprocess_text(text):\n",
    "    words = text.lower().split()\n",
    "    encoded_review = [word_index.get(word, 2) + 3 for word in words]\n",
    "    padded_review = sequence.pad_sequences([encoded_review], maxlen=500)\n",
    "    return padded_review"
   ]
  },
  {
   "cell_type": "code",
   "execution_count": 7,
   "metadata": {},
   "outputs": [],
   "source": [
    "### Prediction  function\n",
    "\n",
    "def predict_sentiment(review):\n",
    "    preprocessed_input=preprocess_text(review)\n",
    "\n",
    "    prediction=model.predict(preprocessed_input)\n",
    "\n",
    "    sentiment = 'Positive' if prediction[0][0] > 0.5 else 'Negative'\n",
    "    \n",
    "    return sentiment, prediction[0][0]\n",
    "\n"
   ]
  },
  {
   "cell_type": "code",
   "execution_count": 8,
   "metadata": {},
   "outputs": [
    {
     "name": "stdout",
     "output_type": "stream",
     "text": [
      "\u001b[1m1/1\u001b[0m \u001b[32m━━━━━━━━━━━━━━━━━━━━\u001b[0m\u001b[37m\u001b[0m \u001b[1m0s\u001b[0m 252ms/step\n"
     ]
    },
    {
     "data": {
      "text/plain": [
       "0.22627491"
      ]
     },
     "execution_count": 8,
     "metadata": {},
     "output_type": "execute_result"
    }
   ],
   "source": [
    "review=\"The movie not at all good it was very bad  and the screenplay is also bad.\"\n",
    "preprocessed_input=preprocess_text(review)\n",
    "prediction=model.predict(preprocessed_input)\n",
    "prediction[0][0]"
   ]
  },
  {
   "cell_type": "code",
   "execution_count": 9,
   "metadata": {},
   "outputs": [
    {
     "name": "stdout",
     "output_type": "stream",
     "text": [
      "\u001b[1m1/1\u001b[0m \u001b[32m━━━━━━━━━━━━━━━━━━━━\u001b[0m\u001b[37m\u001b[0m \u001b[1m0s\u001b[0m 43ms/step\n",
      "Review: The movie not at all good it was very bad  and the screenplay is also bad.\n",
      "Sentiment: Negative\n",
      "Prediction Score: 0.22627490758895874\n"
     ]
    }
   ],
   "source": [
    "# Step 4: User Input and Prediction\n",
    "# Example review for prediction\n",
    "example_review =\"The movie not at all good it was very bad  and the screenplay is also bad.\"\n",
    "sentiment,score=predict_sentiment(example_review)\n",
    "\n",
    "print(f'Review: {example_review}')\n",
    "print(f'Sentiment: {sentiment}')\n",
    "print(f'Prediction Score: {score}')"
   ]
  },
  {
   "cell_type": "code",
   "execution_count": null,
   "metadata": {},
   "outputs": [],
   "source": []
  },
  {
   "cell_type": "code",
   "execution_count": null,
   "metadata": {},
   "outputs": [],
   "source": []
  },
  {
   "cell_type": "code",
   "execution_count": null,
   "metadata": {},
   "outputs": [],
   "source": []
  },
  {
   "cell_type": "code",
   "execution_count": null,
   "metadata": {},
   "outputs": [],
   "source": []
  },
  {
   "cell_type": "code",
   "execution_count": null,
   "metadata": {},
   "outputs": [],
   "source": []
  },
  {
   "cell_type": "code",
   "execution_count": 10,
   "metadata": {},
   "outputs": [
    {
     "name": "stdout",
     "output_type": "stream",
     "text": [
      "2.18.0\n"
     ]
    }
   ],
   "source": [
    "import tensorflow as tf\n",
    "print(tf.__version__)"
   ]
  },
  {
   "cell_type": "code",
   "execution_count": null,
   "metadata": {},
   "outputs": [],
   "source": []
  }
 ],
 "metadata": {
  "kernelspec": {
   "display_name": "Python 3",
   "language": "python",
   "name": "python3"
  },
  "language_info": {
   "codemirror_mode": {
    "name": "ipython",
    "version": 3
   },
   "file_extension": ".py",
   "mimetype": "text/x-python",
   "name": "python",
   "nbconvert_exporter": "python",
   "pygments_lexer": "ipython3",
   "version": "3.10.0"
  }
 },
 "nbformat": 4,
 "nbformat_minor": 2
}
